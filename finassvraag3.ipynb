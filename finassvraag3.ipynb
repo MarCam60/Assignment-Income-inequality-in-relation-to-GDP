{
  "nbformat": 4,
  "nbformat_minor": 0,
  "metadata": {
    "colab": {
      "provenance": [],
      "authorship_tag": "ABX9TyMZwA3uw9Q7ONA/ekqnjFhs",
      "include_colab_link": true
    },
    "kernelspec": {
      "name": "python3",
      "display_name": "Python 3"
    },
    "language_info": {
      "name": "python"
    }
  },
  "cells": [
    {
      "cell_type": "markdown",
      "metadata": {
        "id": "view-in-github",
        "colab_type": "text"
      },
      "source": [
        "<a href=\"https://colab.research.google.com/github/MarCam60/Assignment-Income-inequality-in-relation-to-GDP/blob/main/finassvraag3.ipynb\" target=\"_parent\"><img src=\"https://colab.research.google.com/assets/colab-badge.svg\" alt=\"Open In Colab\"/></a>"
      ]
    },
    {
      "cell_type": "code",
      "source": [
        "#Wat heb ik gedaan.\n",
        "#Eerst bepaald welke niet fossiele energie interessant zijn. \n",
        "#Vervolgens  gezocht naar een data set met prijzen van niet fossiele energie. \n",
        "#De data vervolgens verschoond via drop(na). Daarna kolommen verwijderd die niet interessant zijn en de namen van de kolommen veranderd. \n",
        "#De volgende stap was om lineaire regressie toe te passen. \n",
        "#De daaruit verkregen informatie heb ik vervolgens gebruikt om een nieuwe dataframe te maken met die gegevens. \n",
        "#Tenslotte heb ik uit de nieuwe dataframe een plot gemaakt. \n",
        "#Conclusie: Daaruit blijkt dat de beste prijs voor niet fossiele energie komt ten gunste van solar energie."
      ],
      "metadata": {
        "id": "3MZJIHnnohrb"
      },
      "execution_count": null,
      "outputs": []
    },
    {
      "cell_type": "markdown",
      "source": [
        "\n"
      ],
      "metadata": {
        "id": "yY_iKdFTogBK"
      }
    },
    {
      "cell_type": "code",
      "execution_count": 1,
      "metadata": {
        "id": "NHKHfW8UVDg2"
      },
      "outputs": [],
      "source": [
        "import pandas as pd\n",
        "import numpy as np\n",
        "df = pd.read_csv('/content/levelized-cost-of-energy.csv')"
      ]
    },
    {
      "cell_type": "code",
      "source": [
        "df_1= df.dropna()\n",
        "df_1"
      ],
      "metadata": {
        "colab": {
          "base_uri": "https://localhost:8080/",
          "height": 490
        },
        "id": "cQnsgnekVqm6",
        "outputId": "8a013d6d-f942-4683-ce4e-189e728420bb"
      },
      "execution_count": 2,
      "outputs": [
        {
          "output_type": "execute_result",
          "data": {
            "text/plain": [
              "    Entity      Code  Year  Bioenergy levelized cost of energy  \\\n",
              "447  World  OWID_WRL  2010                            0.078189   \n",
              "449  World  OWID_WRL  2012                            0.061879   \n",
              "450  World  OWID_WRL  2013                            0.082198   \n",
              "451  World  OWID_WRL  2014                            0.082375   \n",
              "452  World  OWID_WRL  2015                            0.072771   \n",
              "453  World  OWID_WRL  2016                            0.071178   \n",
              "454  World  OWID_WRL  2017                            0.071070   \n",
              "455  World  OWID_WRL  2018                            0.055360   \n",
              "456  World  OWID_WRL  2019                            0.063933   \n",
              "457  World  OWID_WRL  2020                            0.072473   \n",
              "458  World  OWID_WRL  2021                            0.067343   \n",
              "\n",
              "     Geothermal levelized cost of energy  \\\n",
              "447                             0.050445   \n",
              "449                             0.085695   \n",
              "450                             0.064111   \n",
              "451                             0.065335   \n",
              "452                             0.058849   \n",
              "453                             0.067802   \n",
              "454                             0.070917   \n",
              "455                             0.067583   \n",
              "456                             0.067305   \n",
              "457                             0.054264   \n",
              "458                             0.067616   \n",
              "\n",
              "     Offshore wind levelized cost of energy  \\\n",
              "447                                0.187857   \n",
              "449                                0.166601   \n",
              "450                                0.166662   \n",
              "451                                0.172199   \n",
              "452                                0.140527   \n",
              "453                                0.116323   \n",
              "454                                0.106152   \n",
              "455                                0.100049   \n",
              "456                                0.086388   \n",
              "457                                0.086266   \n",
              "458                                0.075167   \n",
              "\n",
              "     Solar photovoltaic levelized cost of energy  \\\n",
              "447                                     0.417149   \n",
              "449                                     0.232633   \n",
              "450                                     0.179401   \n",
              "451                                     0.161258   \n",
              "452                                     0.121080   \n",
              "453                                     0.106340   \n",
              "454                                     0.083660   \n",
              "455                                     0.071139   \n",
              "456                                     0.062119   \n",
              "457                                     0.055444   \n",
              "458                                     0.048346   \n",
              "\n",
              "     Concentrated solar power levelized cost of energy  \\\n",
              "447                                           0.358004   \n",
              "449                                           0.337574   \n",
              "450                                           0.248888   \n",
              "451                                           0.216377   \n",
              "452                                           0.223889   \n",
              "453                                           0.247269   \n",
              "454                                           0.206213   \n",
              "455                                           0.149103   \n",
              "456                                           0.211831   \n",
              "457                                           0.106653   \n",
              "458                                           0.114242   \n",
              "\n",
              "     Hydropower levelized cost of energy  \\\n",
              "447                             0.038883   \n",
              "449                             0.038038   \n",
              "450                             0.042512   \n",
              "451                             0.042457   \n",
              "452                             0.036572   \n",
              "453                             0.048389   \n",
              "454                             0.050722   \n",
              "455                             0.039837   \n",
              "456                             0.041409   \n",
              "457                             0.045966   \n",
              "458                             0.048300   \n",
              "\n",
              "     Onshore wind levelized cost of energy  \n",
              "447                               0.102061  \n",
              "449                               0.088390  \n",
              "450                               0.089206  \n",
              "451                               0.080203  \n",
              "452                               0.068962  \n",
              "453                               0.063855  \n",
              "454                               0.059959  \n",
              "455                               0.050880  \n",
              "456                               0.044592  \n",
              "457                               0.037137  \n",
              "458                               0.033123  "
            ],
            "text/html": [
              "\n",
              "  <div id=\"df-940f1e31-809e-4d69-ad2a-bc1fcb772089\">\n",
              "    <div class=\"colab-df-container\">\n",
              "      <div>\n",
              "<style scoped>\n",
              "    .dataframe tbody tr th:only-of-type {\n",
              "        vertical-align: middle;\n",
              "    }\n",
              "\n",
              "    .dataframe tbody tr th {\n",
              "        vertical-align: top;\n",
              "    }\n",
              "\n",
              "    .dataframe thead th {\n",
              "        text-align: right;\n",
              "    }\n",
              "</style>\n",
              "<table border=\"1\" class=\"dataframe\">\n",
              "  <thead>\n",
              "    <tr style=\"text-align: right;\">\n",
              "      <th></th>\n",
              "      <th>Entity</th>\n",
              "      <th>Code</th>\n",
              "      <th>Year</th>\n",
              "      <th>Bioenergy levelized cost of energy</th>\n",
              "      <th>Geothermal levelized cost of energy</th>\n",
              "      <th>Offshore wind levelized cost of energy</th>\n",
              "      <th>Solar photovoltaic levelized cost of energy</th>\n",
              "      <th>Concentrated solar power levelized cost of energy</th>\n",
              "      <th>Hydropower levelized cost of energy</th>\n",
              "      <th>Onshore wind levelized cost of energy</th>\n",
              "    </tr>\n",
              "  </thead>\n",
              "  <tbody>\n",
              "    <tr>\n",
              "      <th>447</th>\n",
              "      <td>World</td>\n",
              "      <td>OWID_WRL</td>\n",
              "      <td>2010</td>\n",
              "      <td>0.078189</td>\n",
              "      <td>0.050445</td>\n",
              "      <td>0.187857</td>\n",
              "      <td>0.417149</td>\n",
              "      <td>0.358004</td>\n",
              "      <td>0.038883</td>\n",
              "      <td>0.102061</td>\n",
              "    </tr>\n",
              "    <tr>\n",
              "      <th>449</th>\n",
              "      <td>World</td>\n",
              "      <td>OWID_WRL</td>\n",
              "      <td>2012</td>\n",
              "      <td>0.061879</td>\n",
              "      <td>0.085695</td>\n",
              "      <td>0.166601</td>\n",
              "      <td>0.232633</td>\n",
              "      <td>0.337574</td>\n",
              "      <td>0.038038</td>\n",
              "      <td>0.088390</td>\n",
              "    </tr>\n",
              "    <tr>\n",
              "      <th>450</th>\n",
              "      <td>World</td>\n",
              "      <td>OWID_WRL</td>\n",
              "      <td>2013</td>\n",
              "      <td>0.082198</td>\n",
              "      <td>0.064111</td>\n",
              "      <td>0.166662</td>\n",
              "      <td>0.179401</td>\n",
              "      <td>0.248888</td>\n",
              "      <td>0.042512</td>\n",
              "      <td>0.089206</td>\n",
              "    </tr>\n",
              "    <tr>\n",
              "      <th>451</th>\n",
              "      <td>World</td>\n",
              "      <td>OWID_WRL</td>\n",
              "      <td>2014</td>\n",
              "      <td>0.082375</td>\n",
              "      <td>0.065335</td>\n",
              "      <td>0.172199</td>\n",
              "      <td>0.161258</td>\n",
              "      <td>0.216377</td>\n",
              "      <td>0.042457</td>\n",
              "      <td>0.080203</td>\n",
              "    </tr>\n",
              "    <tr>\n",
              "      <th>452</th>\n",
              "      <td>World</td>\n",
              "      <td>OWID_WRL</td>\n",
              "      <td>2015</td>\n",
              "      <td>0.072771</td>\n",
              "      <td>0.058849</td>\n",
              "      <td>0.140527</td>\n",
              "      <td>0.121080</td>\n",
              "      <td>0.223889</td>\n",
              "      <td>0.036572</td>\n",
              "      <td>0.068962</td>\n",
              "    </tr>\n",
              "    <tr>\n",
              "      <th>453</th>\n",
              "      <td>World</td>\n",
              "      <td>OWID_WRL</td>\n",
              "      <td>2016</td>\n",
              "      <td>0.071178</td>\n",
              "      <td>0.067802</td>\n",
              "      <td>0.116323</td>\n",
              "      <td>0.106340</td>\n",
              "      <td>0.247269</td>\n",
              "      <td>0.048389</td>\n",
              "      <td>0.063855</td>\n",
              "    </tr>\n",
              "    <tr>\n",
              "      <th>454</th>\n",
              "      <td>World</td>\n",
              "      <td>OWID_WRL</td>\n",
              "      <td>2017</td>\n",
              "      <td>0.071070</td>\n",
              "      <td>0.070917</td>\n",
              "      <td>0.106152</td>\n",
              "      <td>0.083660</td>\n",
              "      <td>0.206213</td>\n",
              "      <td>0.050722</td>\n",
              "      <td>0.059959</td>\n",
              "    </tr>\n",
              "    <tr>\n",
              "      <th>455</th>\n",
              "      <td>World</td>\n",
              "      <td>OWID_WRL</td>\n",
              "      <td>2018</td>\n",
              "      <td>0.055360</td>\n",
              "      <td>0.067583</td>\n",
              "      <td>0.100049</td>\n",
              "      <td>0.071139</td>\n",
              "      <td>0.149103</td>\n",
              "      <td>0.039837</td>\n",
              "      <td>0.050880</td>\n",
              "    </tr>\n",
              "    <tr>\n",
              "      <th>456</th>\n",
              "      <td>World</td>\n",
              "      <td>OWID_WRL</td>\n",
              "      <td>2019</td>\n",
              "      <td>0.063933</td>\n",
              "      <td>0.067305</td>\n",
              "      <td>0.086388</td>\n",
              "      <td>0.062119</td>\n",
              "      <td>0.211831</td>\n",
              "      <td>0.041409</td>\n",
              "      <td>0.044592</td>\n",
              "    </tr>\n",
              "    <tr>\n",
              "      <th>457</th>\n",
              "      <td>World</td>\n",
              "      <td>OWID_WRL</td>\n",
              "      <td>2020</td>\n",
              "      <td>0.072473</td>\n",
              "      <td>0.054264</td>\n",
              "      <td>0.086266</td>\n",
              "      <td>0.055444</td>\n",
              "      <td>0.106653</td>\n",
              "      <td>0.045966</td>\n",
              "      <td>0.037137</td>\n",
              "    </tr>\n",
              "    <tr>\n",
              "      <th>458</th>\n",
              "      <td>World</td>\n",
              "      <td>OWID_WRL</td>\n",
              "      <td>2021</td>\n",
              "      <td>0.067343</td>\n",
              "      <td>0.067616</td>\n",
              "      <td>0.075167</td>\n",
              "      <td>0.048346</td>\n",
              "      <td>0.114242</td>\n",
              "      <td>0.048300</td>\n",
              "      <td>0.033123</td>\n",
              "    </tr>\n",
              "  </tbody>\n",
              "</table>\n",
              "</div>\n",
              "      <button class=\"colab-df-convert\" onclick=\"convertToInteractive('df-940f1e31-809e-4d69-ad2a-bc1fcb772089')\"\n",
              "              title=\"Convert this dataframe to an interactive table.\"\n",
              "              style=\"display:none;\">\n",
              "        \n",
              "  <svg xmlns=\"http://www.w3.org/2000/svg\" height=\"24px\"viewBox=\"0 0 24 24\"\n",
              "       width=\"24px\">\n",
              "    <path d=\"M0 0h24v24H0V0z\" fill=\"none\"/>\n",
              "    <path d=\"M18.56 5.44l.94 2.06.94-2.06 2.06-.94-2.06-.94-.94-2.06-.94 2.06-2.06.94zm-11 1L8.5 8.5l.94-2.06 2.06-.94-2.06-.94L8.5 2.5l-.94 2.06-2.06.94zm10 10l.94 2.06.94-2.06 2.06-.94-2.06-.94-.94-2.06-.94 2.06-2.06.94z\"/><path d=\"M17.41 7.96l-1.37-1.37c-.4-.4-.92-.59-1.43-.59-.52 0-1.04.2-1.43.59L10.3 9.45l-7.72 7.72c-.78.78-.78 2.05 0 2.83L4 21.41c.39.39.9.59 1.41.59.51 0 1.02-.2 1.41-.59l7.78-7.78 2.81-2.81c.8-.78.8-2.07 0-2.86zM5.41 20L4 18.59l7.72-7.72 1.47 1.35L5.41 20z\"/>\n",
              "  </svg>\n",
              "      </button>\n",
              "      \n",
              "  <style>\n",
              "    .colab-df-container {\n",
              "      display:flex;\n",
              "      flex-wrap:wrap;\n",
              "      gap: 12px;\n",
              "    }\n",
              "\n",
              "    .colab-df-convert {\n",
              "      background-color: #E8F0FE;\n",
              "      border: none;\n",
              "      border-radius: 50%;\n",
              "      cursor: pointer;\n",
              "      display: none;\n",
              "      fill: #1967D2;\n",
              "      height: 32px;\n",
              "      padding: 0 0 0 0;\n",
              "      width: 32px;\n",
              "    }\n",
              "\n",
              "    .colab-df-convert:hover {\n",
              "      background-color: #E2EBFA;\n",
              "      box-shadow: 0px 1px 2px rgba(60, 64, 67, 0.3), 0px 1px 3px 1px rgba(60, 64, 67, 0.15);\n",
              "      fill: #174EA6;\n",
              "    }\n",
              "\n",
              "    [theme=dark] .colab-df-convert {\n",
              "      background-color: #3B4455;\n",
              "      fill: #D2E3FC;\n",
              "    }\n",
              "\n",
              "    [theme=dark] .colab-df-convert:hover {\n",
              "      background-color: #434B5C;\n",
              "      box-shadow: 0px 1px 3px 1px rgba(0, 0, 0, 0.15);\n",
              "      filter: drop-shadow(0px 1px 2px rgba(0, 0, 0, 0.3));\n",
              "      fill: #FFFFFF;\n",
              "    }\n",
              "  </style>\n",
              "\n",
              "      <script>\n",
              "        const buttonEl =\n",
              "          document.querySelector('#df-940f1e31-809e-4d69-ad2a-bc1fcb772089 button.colab-df-convert');\n",
              "        buttonEl.style.display =\n",
              "          google.colab.kernel.accessAllowed ? 'block' : 'none';\n",
              "\n",
              "        async function convertToInteractive(key) {\n",
              "          const element = document.querySelector('#df-940f1e31-809e-4d69-ad2a-bc1fcb772089');\n",
              "          const dataTable =\n",
              "            await google.colab.kernel.invokeFunction('convertToInteractive',\n",
              "                                                     [key], {});\n",
              "          if (!dataTable) return;\n",
              "\n",
              "          const docLinkHtml = 'Like what you see? Visit the ' +\n",
              "            '<a target=\"_blank\" href=https://colab.research.google.com/notebooks/data_table.ipynb>data table notebook</a>'\n",
              "            + ' to learn more about interactive tables.';\n",
              "          element.innerHTML = '';\n",
              "          dataTable['output_type'] = 'display_data';\n",
              "          await google.colab.output.renderOutput(dataTable, element);\n",
              "          const docLink = document.createElement('div');\n",
              "          docLink.innerHTML = docLinkHtml;\n",
              "          element.appendChild(docLink);\n",
              "        }\n",
              "      </script>\n",
              "    </div>\n",
              "  </div>\n",
              "  "
            ]
          },
          "metadata": {},
          "execution_count": 2
        }
      ]
    },
    {
      "cell_type": "code",
      "source": [
        "df_2 = df_1.drop(['Entity', 'Code'], axis=1)"
      ],
      "metadata": {
        "id": "9aNLxf2qaSRM"
      },
      "execution_count": 3,
      "outputs": []
    },
    {
      "cell_type": "code",
      "source": [
        "df_2.rename({'Bioenergy levelized cost of energy': 'Bio', 'Geothermal levelized cost of energy': 'Geo','Offshore wind levelized cost of energy':'Offshore', 'Solar photovoltaic levelized cost of energy': 'Solar', 'Concentrated solar power levelized cost of energy':'Con','Hydropower levelized cost of energy': 'Hydro', 'Onshore wind levelized cost of energy':'Onshore'}, axis=1, inplace=True)\n",
        "df_2"
      ],
      "metadata": {
        "colab": {
          "base_uri": "https://localhost:8080/",
          "height": 394
        },
        "id": "sCBG0XF32k86",
        "outputId": "f853e6da-f157-4e17-a3fd-6d0674baf7a6"
      },
      "execution_count": 4,
      "outputs": [
        {
          "output_type": "execute_result",
          "data": {
            "text/plain": [
              "     Year       Bio       Geo  Offshore     Solar       Con     Hydro  \\\n",
              "447  2010  0.078189  0.050445  0.187857  0.417149  0.358004  0.038883   \n",
              "449  2012  0.061879  0.085695  0.166601  0.232633  0.337574  0.038038   \n",
              "450  2013  0.082198  0.064111  0.166662  0.179401  0.248888  0.042512   \n",
              "451  2014  0.082375  0.065335  0.172199  0.161258  0.216377  0.042457   \n",
              "452  2015  0.072771  0.058849  0.140527  0.121080  0.223889  0.036572   \n",
              "453  2016  0.071178  0.067802  0.116323  0.106340  0.247269  0.048389   \n",
              "454  2017  0.071070  0.070917  0.106152  0.083660  0.206213  0.050722   \n",
              "455  2018  0.055360  0.067583  0.100049  0.071139  0.149103  0.039837   \n",
              "456  2019  0.063933  0.067305  0.086388  0.062119  0.211831  0.041409   \n",
              "457  2020  0.072473  0.054264  0.086266  0.055444  0.106653  0.045966   \n",
              "458  2021  0.067343  0.067616  0.075167  0.048346  0.114242  0.048300   \n",
              "\n",
              "      Onshore  \n",
              "447  0.102061  \n",
              "449  0.088390  \n",
              "450  0.089206  \n",
              "451  0.080203  \n",
              "452  0.068962  \n",
              "453  0.063855  \n",
              "454  0.059959  \n",
              "455  0.050880  \n",
              "456  0.044592  \n",
              "457  0.037137  \n",
              "458  0.033123  "
            ],
            "text/html": [
              "\n",
              "  <div id=\"df-f25f4a45-af2a-4884-ac66-cd3070ec5f55\">\n",
              "    <div class=\"colab-df-container\">\n",
              "      <div>\n",
              "<style scoped>\n",
              "    .dataframe tbody tr th:only-of-type {\n",
              "        vertical-align: middle;\n",
              "    }\n",
              "\n",
              "    .dataframe tbody tr th {\n",
              "        vertical-align: top;\n",
              "    }\n",
              "\n",
              "    .dataframe thead th {\n",
              "        text-align: right;\n",
              "    }\n",
              "</style>\n",
              "<table border=\"1\" class=\"dataframe\">\n",
              "  <thead>\n",
              "    <tr style=\"text-align: right;\">\n",
              "      <th></th>\n",
              "      <th>Year</th>\n",
              "      <th>Bio</th>\n",
              "      <th>Geo</th>\n",
              "      <th>Offshore</th>\n",
              "      <th>Solar</th>\n",
              "      <th>Con</th>\n",
              "      <th>Hydro</th>\n",
              "      <th>Onshore</th>\n",
              "    </tr>\n",
              "  </thead>\n",
              "  <tbody>\n",
              "    <tr>\n",
              "      <th>447</th>\n",
              "      <td>2010</td>\n",
              "      <td>0.078189</td>\n",
              "      <td>0.050445</td>\n",
              "      <td>0.187857</td>\n",
              "      <td>0.417149</td>\n",
              "      <td>0.358004</td>\n",
              "      <td>0.038883</td>\n",
              "      <td>0.102061</td>\n",
              "    </tr>\n",
              "    <tr>\n",
              "      <th>449</th>\n",
              "      <td>2012</td>\n",
              "      <td>0.061879</td>\n",
              "      <td>0.085695</td>\n",
              "      <td>0.166601</td>\n",
              "      <td>0.232633</td>\n",
              "      <td>0.337574</td>\n",
              "      <td>0.038038</td>\n",
              "      <td>0.088390</td>\n",
              "    </tr>\n",
              "    <tr>\n",
              "      <th>450</th>\n",
              "      <td>2013</td>\n",
              "      <td>0.082198</td>\n",
              "      <td>0.064111</td>\n",
              "      <td>0.166662</td>\n",
              "      <td>0.179401</td>\n",
              "      <td>0.248888</td>\n",
              "      <td>0.042512</td>\n",
              "      <td>0.089206</td>\n",
              "    </tr>\n",
              "    <tr>\n",
              "      <th>451</th>\n",
              "      <td>2014</td>\n",
              "      <td>0.082375</td>\n",
              "      <td>0.065335</td>\n",
              "      <td>0.172199</td>\n",
              "      <td>0.161258</td>\n",
              "      <td>0.216377</td>\n",
              "      <td>0.042457</td>\n",
              "      <td>0.080203</td>\n",
              "    </tr>\n",
              "    <tr>\n",
              "      <th>452</th>\n",
              "      <td>2015</td>\n",
              "      <td>0.072771</td>\n",
              "      <td>0.058849</td>\n",
              "      <td>0.140527</td>\n",
              "      <td>0.121080</td>\n",
              "      <td>0.223889</td>\n",
              "      <td>0.036572</td>\n",
              "      <td>0.068962</td>\n",
              "    </tr>\n",
              "    <tr>\n",
              "      <th>453</th>\n",
              "      <td>2016</td>\n",
              "      <td>0.071178</td>\n",
              "      <td>0.067802</td>\n",
              "      <td>0.116323</td>\n",
              "      <td>0.106340</td>\n",
              "      <td>0.247269</td>\n",
              "      <td>0.048389</td>\n",
              "      <td>0.063855</td>\n",
              "    </tr>\n",
              "    <tr>\n",
              "      <th>454</th>\n",
              "      <td>2017</td>\n",
              "      <td>0.071070</td>\n",
              "      <td>0.070917</td>\n",
              "      <td>0.106152</td>\n",
              "      <td>0.083660</td>\n",
              "      <td>0.206213</td>\n",
              "      <td>0.050722</td>\n",
              "      <td>0.059959</td>\n",
              "    </tr>\n",
              "    <tr>\n",
              "      <th>455</th>\n",
              "      <td>2018</td>\n",
              "      <td>0.055360</td>\n",
              "      <td>0.067583</td>\n",
              "      <td>0.100049</td>\n",
              "      <td>0.071139</td>\n",
              "      <td>0.149103</td>\n",
              "      <td>0.039837</td>\n",
              "      <td>0.050880</td>\n",
              "    </tr>\n",
              "    <tr>\n",
              "      <th>456</th>\n",
              "      <td>2019</td>\n",
              "      <td>0.063933</td>\n",
              "      <td>0.067305</td>\n",
              "      <td>0.086388</td>\n",
              "      <td>0.062119</td>\n",
              "      <td>0.211831</td>\n",
              "      <td>0.041409</td>\n",
              "      <td>0.044592</td>\n",
              "    </tr>\n",
              "    <tr>\n",
              "      <th>457</th>\n",
              "      <td>2020</td>\n",
              "      <td>0.072473</td>\n",
              "      <td>0.054264</td>\n",
              "      <td>0.086266</td>\n",
              "      <td>0.055444</td>\n",
              "      <td>0.106653</td>\n",
              "      <td>0.045966</td>\n",
              "      <td>0.037137</td>\n",
              "    </tr>\n",
              "    <tr>\n",
              "      <th>458</th>\n",
              "      <td>2021</td>\n",
              "      <td>0.067343</td>\n",
              "      <td>0.067616</td>\n",
              "      <td>0.075167</td>\n",
              "      <td>0.048346</td>\n",
              "      <td>0.114242</td>\n",
              "      <td>0.048300</td>\n",
              "      <td>0.033123</td>\n",
              "    </tr>\n",
              "  </tbody>\n",
              "</table>\n",
              "</div>\n",
              "      <button class=\"colab-df-convert\" onclick=\"convertToInteractive('df-f25f4a45-af2a-4884-ac66-cd3070ec5f55')\"\n",
              "              title=\"Convert this dataframe to an interactive table.\"\n",
              "              style=\"display:none;\">\n",
              "        \n",
              "  <svg xmlns=\"http://www.w3.org/2000/svg\" height=\"24px\"viewBox=\"0 0 24 24\"\n",
              "       width=\"24px\">\n",
              "    <path d=\"M0 0h24v24H0V0z\" fill=\"none\"/>\n",
              "    <path d=\"M18.56 5.44l.94 2.06.94-2.06 2.06-.94-2.06-.94-.94-2.06-.94 2.06-2.06.94zm-11 1L8.5 8.5l.94-2.06 2.06-.94-2.06-.94L8.5 2.5l-.94 2.06-2.06.94zm10 10l.94 2.06.94-2.06 2.06-.94-2.06-.94-.94-2.06-.94 2.06-2.06.94z\"/><path d=\"M17.41 7.96l-1.37-1.37c-.4-.4-.92-.59-1.43-.59-.52 0-1.04.2-1.43.59L10.3 9.45l-7.72 7.72c-.78.78-.78 2.05 0 2.83L4 21.41c.39.39.9.59 1.41.59.51 0 1.02-.2 1.41-.59l7.78-7.78 2.81-2.81c.8-.78.8-2.07 0-2.86zM5.41 20L4 18.59l7.72-7.72 1.47 1.35L5.41 20z\"/>\n",
              "  </svg>\n",
              "      </button>\n",
              "      \n",
              "  <style>\n",
              "    .colab-df-container {\n",
              "      display:flex;\n",
              "      flex-wrap:wrap;\n",
              "      gap: 12px;\n",
              "    }\n",
              "\n",
              "    .colab-df-convert {\n",
              "      background-color: #E8F0FE;\n",
              "      border: none;\n",
              "      border-radius: 50%;\n",
              "      cursor: pointer;\n",
              "      display: none;\n",
              "      fill: #1967D2;\n",
              "      height: 32px;\n",
              "      padding: 0 0 0 0;\n",
              "      width: 32px;\n",
              "    }\n",
              "\n",
              "    .colab-df-convert:hover {\n",
              "      background-color: #E2EBFA;\n",
              "      box-shadow: 0px 1px 2px rgba(60, 64, 67, 0.3), 0px 1px 3px 1px rgba(60, 64, 67, 0.15);\n",
              "      fill: #174EA6;\n",
              "    }\n",
              "\n",
              "    [theme=dark] .colab-df-convert {\n",
              "      background-color: #3B4455;\n",
              "      fill: #D2E3FC;\n",
              "    }\n",
              "\n",
              "    [theme=dark] .colab-df-convert:hover {\n",
              "      background-color: #434B5C;\n",
              "      box-shadow: 0px 1px 3px 1px rgba(0, 0, 0, 0.15);\n",
              "      filter: drop-shadow(0px 1px 2px rgba(0, 0, 0, 0.3));\n",
              "      fill: #FFFFFF;\n",
              "    }\n",
              "  </style>\n",
              "\n",
              "      <script>\n",
              "        const buttonEl =\n",
              "          document.querySelector('#df-f25f4a45-af2a-4884-ac66-cd3070ec5f55 button.colab-df-convert');\n",
              "        buttonEl.style.display =\n",
              "          google.colab.kernel.accessAllowed ? 'block' : 'none';\n",
              "\n",
              "        async function convertToInteractive(key) {\n",
              "          const element = document.querySelector('#df-f25f4a45-af2a-4884-ac66-cd3070ec5f55');\n",
              "          const dataTable =\n",
              "            await google.colab.kernel.invokeFunction('convertToInteractive',\n",
              "                                                     [key], {});\n",
              "          if (!dataTable) return;\n",
              "\n",
              "          const docLinkHtml = 'Like what you see? Visit the ' +\n",
              "            '<a target=\"_blank\" href=https://colab.research.google.com/notebooks/data_table.ipynb>data table notebook</a>'\n",
              "            + ' to learn more about interactive tables.';\n",
              "          element.innerHTML = '';\n",
              "          dataTable['output_type'] = 'display_data';\n",
              "          await google.colab.output.renderOutput(dataTable, element);\n",
              "          const docLink = document.createElement('div');\n",
              "          docLink.innerHTML = docLinkHtml;\n",
              "          element.appendChild(docLink);\n",
              "        }\n",
              "      </script>\n",
              "    </div>\n",
              "  </div>\n",
              "  "
            ]
          },
          "metadata": {},
          "execution_count": 4
        }
      ]
    },
    {
      "cell_type": "code",
      "source": [
        "from sklearn.linear_model import LinearRegression"
      ],
      "metadata": {
        "id": "GrShvBSp6RDT"
      },
      "execution_count": 5,
      "outputs": []
    },
    {
      "cell_type": "code",
      "source": [
        "X = df_2.iloc[:, 0].values.reshape(-1, 1)  # values converts it into a numpy array\n",
        "Bio = df_2.iloc[:, 1].values.reshape(-1, 1)  # -1 means that calculate the dimension of rows, but have 1 column\n",
        "linear_regressor = LinearRegression()  # create object for the class\n",
        "linear_regressor.fit(X, Bio)  # perform linear regression\n",
        "Bio_pred = linear_regressor.predict(X)  # make predictions\n",
        "print (Bio_pred)"
      ],
      "metadata": {
        "colab": {
          "base_uri": "https://localhost:8080/"
        },
        "id": "vwJNLPpg5Hka",
        "outputId": "e5246e58-55d2-4d81-ee74-b077036846f8"
      },
      "execution_count": 6,
      "outputs": [
        {
          "output_type": "stream",
          "name": "stdout",
          "text": [
            "[[0.07713971]\n",
            " [0.07499305]\n",
            " [0.07391971]\n",
            " [0.07284638]\n",
            " [0.07177304]\n",
            " [0.07069971]\n",
            " [0.06962637]\n",
            " [0.06855304]\n",
            " [0.06747971]\n",
            " [0.06640637]\n",
            " [0.06533304]]\n"
          ]
        }
      ]
    },
    {
      "cell_type": "code",
      "source": [
        "df_Bio={'Bio': [0.07713971, 0.07499305, 0.07391971, 0.07284638, 0.07177304, 0.07069971, 0.06962637, 0.06855304, 0.06747971,0.06640637, 0.06533304]}\n",
        "df_Bio = pd.DataFrame(df_Bio)"
      ],
      "metadata": {
        "id": "5pg1LH4pOzZ8"
      },
      "execution_count": 7,
      "outputs": []
    },
    {
      "cell_type": "code",
      "source": [
        "X = df_2.iloc[:, 0].values.reshape(-1, 1)  # values converts it into a numpy array\n",
        "Geo = df_2.iloc[:, 2].values.reshape(-1, 1)  # -1 means that calculate the dimension of rows, but have 1 column\n",
        "linear_regressor = LinearRegression()  # create object for the class\n",
        "linear_regressor.fit(X, Geo)  # perform linear regression\n",
        "Geo_pred = linear_regressor.predict(X)  # make predictions\n",
        "print (Geo_pred)"
      ],
      "metadata": {
        "colab": {
          "base_uri": "https://localhost:8080/"
        },
        "id": "p_1Xeeyl6UQL",
        "outputId": "c5142f11-58a9-44c3-f1f7-79301a785456"
      },
      "execution_count": 8,
      "outputs": [
        {
          "output_type": "stream",
          "name": "stdout",
          "text": [
            "[[0.06538492]\n",
            " [0.06540611]\n",
            " [0.0654167 ]\n",
            " [0.0654273 ]\n",
            " [0.06543789]\n",
            " [0.06544848]\n",
            " [0.06545908]\n",
            " [0.06546967]\n",
            " [0.06548026]\n",
            " [0.06549086]\n",
            " [0.06550145]]\n"
          ]
        }
      ]
    },
    {
      "cell_type": "code",
      "source": [
        "df_Geo={ 'Geo': [0.06538492, 0.06540611, 0.0654167, 0.0654273,0.06543789,0.06544848,0.06545908,0.06546967,0.06548026,0.06549086,0.06550145]}\n",
        "df_Geo=pd.DataFrame(df_Geo)"
      ],
      "metadata": {
        "id": "NslyTg9fSKv8"
      },
      "execution_count": 9,
      "outputs": []
    },
    {
      "cell_type": "code",
      "source": [
        "X = df_2.iloc[:, 0].values.reshape(-1, 1)  # values converts it into a numpy array\n",
        "Offshore = df_2.iloc[:, 3].values.reshape(-1, 1)  # -1 means that calculate the dimension of rows, but have 1 column\n",
        "linear_regressor = LinearRegression()  # create object for the class\n",
        "linear_regressor.fit(X, Offshore)  # perform linear regression\n",
        "Offshore_pred = linear_regressor.predict(X)  # make predictions\n",
        "print (Offshore_pred)"
      ],
      "metadata": {
        "colab": {
          "base_uri": "https://localhost:8080/"
        },
        "id": "4I5BKoCO65uj",
        "outputId": "fa3f919e-4220-4a83-d520-8d8c16c416f3"
      },
      "execution_count": 10,
      "outputs": [
        {
          "output_type": "stream",
          "name": "stdout",
          "text": [
            "[[0.19433922]\n",
            " [0.17176871]\n",
            " [0.16048346]\n",
            " [0.14919821]\n",
            " [0.13791295]\n",
            " [0.1266277 ]\n",
            " [0.11534245]\n",
            " [0.1040572 ]\n",
            " [0.09277194]\n",
            " [0.08148669]\n",
            " [0.07020144]]\n"
          ]
        }
      ]
    },
    {
      "cell_type": "code",
      "source": [
        "df_Offshore ={ 'Offshore': [0.19433922, 0.17176871, 0.16048346, 0.14919821, 0.13791295, 0.1266277, 0.11534245, 0.1040572 , 0.09277194, 0.08148669, 0.07020144]}\n",
        "df_Offshore= pd.DataFrame(df_Offshore)"
      ],
      "metadata": {
        "id": "M5ncSSVMSx49"
      },
      "execution_count": 11,
      "outputs": []
    },
    {
      "cell_type": "code",
      "source": [
        "X = df_2.iloc[:, 0].values.reshape(-1, 1)  # values converts it into a numpy array\n",
        "Solar = df_2.iloc[:, 4].values.reshape(-1, 1)  # -1 means that calculate the dimension of rows, but have 1 column\n",
        "linear_regressor = LinearRegression()  # create object for the class\n",
        "linear_regressor.fit(X, Solar)  # perform linear regression\n",
        "Solar_pred = linear_regressor.predict(X)  # make predictions\n",
        "print (Solar_pred)"
      ],
      "metadata": {
        "colab": {
          "base_uri": "https://localhost:8080/"
        },
        "id": "kWhmJ56w665T",
        "outputId": "e6f0e869-fb10-4191-82ea-5d121f2ce668"
      },
      "execution_count": 12,
      "outputs": [
        {
          "output_type": "stream",
          "name": "stdout",
          "text": [
            "[[ 0.30601368]\n",
            " [ 0.2497804 ]\n",
            " [ 0.22166376]\n",
            " [ 0.19354712]\n",
            " [ 0.16543048]\n",
            " [ 0.13731384]\n",
            " [ 0.1091972 ]\n",
            " [ 0.08108056]\n",
            " [ 0.05296392]\n",
            " [ 0.02484728]\n",
            " [-0.00326936]]\n"
          ]
        }
      ]
    },
    {
      "cell_type": "code",
      "source": [
        "df_Solar ={ 'Solar': [0.30601368,  0.2497804 ,  0.22166376,  0.19354712,  0.16543048,  0.13731384,  0.1091972 , 0.08108056,  0.05296392, 0.02484728, -0.00326936]}\n",
        "df_Solar= pd.DataFrame(df_Solar)"
      ],
      "metadata": {
        "id": "VaeWDePGT8n2"
      },
      "execution_count": 13,
      "outputs": []
    },
    {
      "cell_type": "code",
      "source": [
        "X = df_2.iloc[:, 0].values.reshape(-1, 1)  # values converts it into a numpy array\n",
        "Con = df_2.iloc[:, 5].values.reshape(-1, 1)  # -1 means that calculate the dimension of rows, but have 1 column\n",
        "linear_regressor = LinearRegression()  # create object for the class\n",
        "linear_regressor.fit(X, Con) \n",
        "Con_pred = linear_regressor.predict(X)  # make predictions\n",
        "print (Con_pred)"
      ],
      "metadata": {
        "colab": {
          "base_uri": "https://localhost:8080/"
        },
        "id": "OH1ki8J46-_9",
        "outputId": "b4c250c5-a0aa-45dc-e221-596faa473c0d"
      },
      "execution_count": 14,
      "outputs": [
        {
          "output_type": "stream",
          "name": "stdout",
          "text": [
            "[[0.34432944]\n",
            " [0.30225004]\n",
            " [0.28121034]\n",
            " [0.26017064]\n",
            " [0.23913094]\n",
            " [0.21809124]\n",
            " [0.19705154]\n",
            " [0.17601184]\n",
            " [0.15497214]\n",
            " [0.13393243]\n",
            " [0.11289273]]\n"
          ]
        }
      ]
    },
    {
      "cell_type": "code",
      "source": [
        "df_Con={ 'Con': [0.34432944, 0.30225004, 0.28121034, 0.26017064, 0.23913094, 0.21809124, 0.19705154,0.17601184, 0.15497214, 0.13393243, 0.11289273]}\n",
        "df_Con= pd.DataFrame(df_Con)"
      ],
      "metadata": {
        "id": "mQyF3BZsUk2t"
      },
      "execution_count": 15,
      "outputs": []
    },
    {
      "cell_type": "code",
      "source": [
        "X = df_2.iloc[:, 0].values.reshape(-1, 1)  # values converts it into a numpy array\n",
        "Hydro = df_2.iloc[:, 6].values.reshape(-1, 1)  # -1 means that calculate the dimension of rows, but have 1 column\n",
        "linear_regressor = LinearRegression()  # create object for the class\n",
        "linear_regressor.fit(X, Hydro)  # perform linear regression\n",
        "Hydro_pred = linear_regressor.predict(X)  # make predictions\n",
        "print (Hydro_pred)"
      ],
      "metadata": {
        "id": "QzN_C2LC7ALT",
        "colab": {
          "base_uri": "https://localhost:8080/"
        },
        "outputId": "f1a350af-4891-40d0-e232-46ef872a6247"
      },
      "execution_count": 16,
      "outputs": [
        {
          "output_type": "stream",
          "name": "stdout",
          "text": [
            "[[0.03868133]\n",
            " [0.0401456 ]\n",
            " [0.04087773]\n",
            " [0.04160987]\n",
            " [0.042342  ]\n",
            " [0.04307414]\n",
            " [0.04380627]\n",
            " [0.04453841]\n",
            " [0.04527054]\n",
            " [0.04600268]\n",
            " [0.04673481]]\n"
          ]
        }
      ]
    },
    {
      "cell_type": "code",
      "source": [
        "df_Hydro={ 'Hydro':[0.03868133, 0.0401456 , 0.04087773, 0.04160987, 0.042342, 0.04307414, 0.04380627, 0.04453841, 0.04527054, 0.04600268, 0.04673481]}\n",
        "\n",
        "df_Hydro= pd.DataFrame(df_Hydro)"
      ],
      "metadata": {
        "id": "x99Ag9Q8VH6F"
      },
      "execution_count": 17,
      "outputs": []
    },
    {
      "cell_type": "code",
      "source": [
        "X = df_2.iloc[:, 0].values.reshape(-1, 1)  # values converts it into a numpy array\n",
        "Onshore = df_2.iloc[:, 7].values.reshape(-1, 1)  # -1 means that calculate the dimension of rows, but have 1 column\n",
        "linear_regressor = LinearRegression()  # create object for the class\n",
        "linear_regressor.fit(X, Onshore)  # perform linear regression\n",
        "Onshore_pred = linear_regressor.predict(X)  # make predictions\n",
        "print (Onshore_pred)"
      ],
      "metadata": {
        "id": "pm8g6-_r7BW8",
        "colab": {
          "base_uri": "https://localhost:8080/"
        },
        "outputId": "b9481e7d-2eb0-44d3-ea64-21072fc35901"
      },
      "execution_count": 18,
      "outputs": [
        {
          "output_type": "stream",
          "name": "stdout",
          "text": [
            "[[0.1038152 ]\n",
            " [0.09078142]\n",
            " [0.08426453]\n",
            " [0.07774764]\n",
            " [0.07123075]\n",
            " [0.06471386]\n",
            " [0.05819698]\n",
            " [0.05168009]\n",
            " [0.0451632 ]\n",
            " [0.03864631]\n",
            " [0.03212942]]\n"
          ]
        }
      ]
    },
    {
      "cell_type": "code",
      "source": [
        "import matplotlib.pyplot as plt"
      ],
      "metadata": {
        "id": "k3NFiy0nCVSO"
      },
      "execution_count": 19,
      "outputs": []
    },
    {
      "cell_type": "code",
      "source": [
        "X = df_2.iloc[:, 0].values.reshape(-1, 1)  # values converts it into a numpy array (edited) "
      ],
      "metadata": {
        "id": "PwV95C-kFPd_"
      },
      "execution_count": 20,
      "outputs": []
    },
    {
      "cell_type": "code",
      "source": [
        "df_Year = {'Year':[2010,2012,2013,2014,2015,2016,2017,2018,2019,2020, 2021]} "
      ],
      "metadata": {
        "id": "9FwrFIKrs5Jt"
      },
      "execution_count": 21,
      "outputs": []
    },
    {
      "cell_type": "code",
      "source": [
        "df_Year = pd.DataFrame(df_Year)"
      ],
      "metadata": {
        "id": "pxSLyaKGFVIn"
      },
      "execution_count": 22,
      "outputs": []
    },
    {
      "cell_type": "code",
      "source": [
        "bio = df_2['Bio']\n",
        "bio"
      ],
      "metadata": {
        "colab": {
          "base_uri": "https://localhost:8080/"
        },
        "id": "uVtgJ1LbGOZI",
        "outputId": "260e765a-b8fc-441c-fcb6-8b22245b79ea"
      },
      "execution_count": 23,
      "outputs": [
        {
          "output_type": "execute_result",
          "data": {
            "text/plain": [
              "447    0.078189\n",
              "449    0.061879\n",
              "450    0.082198\n",
              "451    0.082375\n",
              "452    0.072771\n",
              "453    0.071178\n",
              "454    0.071070\n",
              "455    0.055360\n",
              "456    0.063933\n",
              "457    0.072473\n",
              "458    0.067343\n",
              "Name: Bio, dtype: float64"
            ]
          },
          "metadata": {},
          "execution_count": 23
        }
      ]
    },
    {
      "cell_type": "code",
      "source": [
        "df_Onshore= { 'Onshore':[0.1038152 , 0.09078142,0.08426453,0.07774764, 0.07123075, 0.06471386, 0.05819698, 0.05168009, 0.0451632 , 0.03864631, 0.03212942]}\n",
        "df_Onshore = pd.DataFrame(df_Onshore)"
      ],
      "metadata": {
        "id": "aNXVCldDHyZp"
      },
      "execution_count": 24,
      "outputs": []
    },
    {
      "cell_type": "code",
      "source": [
        "import numpy as np"
      ],
      "metadata": {
        "id": "hP8hIM2CLD3a"
      },
      "execution_count": 25,
      "outputs": []
    },
    {
      "cell_type": "code",
      "source": [
        "frame = ([df_Year,df_Bio, df_Geo, df_Offshore,df_Solar,df_Con,df_Hydro, df_Onshore])\n",
        "df_final= pd.concat(frame,axis=1) \n",
        "          \n",
        "#names=['Bio'],['Geo'],'Offshore','Solar','Con', 'Hydro',['Onshore'])\n"
      ],
      "metadata": {
        "id": "cH0GUUZSQI8E"
      },
      "execution_count": 27,
      "outputs": []
    },
    {
      "cell_type": "code",
      "source": [
        "df_final"
      ],
      "metadata": {
        "colab": {
          "base_uri": "https://localhost:8080/",
          "height": 394
        },
        "id": "zRQkwueeq340",
        "outputId": "859864f2-0372-43c3-a7c4-e7edf7ae557c"
      },
      "execution_count": 28,
      "outputs": [
        {
          "output_type": "execute_result",
          "data": {
            "text/plain": [
              "    Year       Bio       Geo  Offshore     Solar       Con     Hydro   Onshore\n",
              "0   2010  0.077140  0.065385  0.194339  0.306014  0.344329  0.038681  0.103815\n",
              "1   2012  0.074993  0.065406  0.171769  0.249780  0.302250  0.040146  0.090781\n",
              "2   2013  0.073920  0.065417  0.160483  0.221664  0.281210  0.040878  0.084265\n",
              "3   2014  0.072846  0.065427  0.149198  0.193547  0.260171  0.041610  0.077748\n",
              "4   2015  0.071773  0.065438  0.137913  0.165430  0.239131  0.042342  0.071231\n",
              "5   2016  0.070700  0.065448  0.126628  0.137314  0.218091  0.043074  0.064714\n",
              "6   2017  0.069626  0.065459  0.115342  0.109197  0.197052  0.043806  0.058197\n",
              "7   2018  0.068553  0.065470  0.104057  0.081081  0.176012  0.044538  0.051680\n",
              "8   2019  0.067480  0.065480  0.092772  0.052964  0.154972  0.045271  0.045163\n",
              "9   2020  0.066406  0.065491  0.081487  0.024847  0.133932  0.046003  0.038646\n",
              "10  2021  0.065333  0.065501  0.070201 -0.003269  0.112893  0.046735  0.032129"
            ],
            "text/html": [
              "\n",
              "  <div id=\"df-8480aad3-d91b-4d8a-a048-ea87b26c4f18\">\n",
              "    <div class=\"colab-df-container\">\n",
              "      <div>\n",
              "<style scoped>\n",
              "    .dataframe tbody tr th:only-of-type {\n",
              "        vertical-align: middle;\n",
              "    }\n",
              "\n",
              "    .dataframe tbody tr th {\n",
              "        vertical-align: top;\n",
              "    }\n",
              "\n",
              "    .dataframe thead th {\n",
              "        text-align: right;\n",
              "    }\n",
              "</style>\n",
              "<table border=\"1\" class=\"dataframe\">\n",
              "  <thead>\n",
              "    <tr style=\"text-align: right;\">\n",
              "      <th></th>\n",
              "      <th>Year</th>\n",
              "      <th>Bio</th>\n",
              "      <th>Geo</th>\n",
              "      <th>Offshore</th>\n",
              "      <th>Solar</th>\n",
              "      <th>Con</th>\n",
              "      <th>Hydro</th>\n",
              "      <th>Onshore</th>\n",
              "    </tr>\n",
              "  </thead>\n",
              "  <tbody>\n",
              "    <tr>\n",
              "      <th>0</th>\n",
              "      <td>2010</td>\n",
              "      <td>0.077140</td>\n",
              "      <td>0.065385</td>\n",
              "      <td>0.194339</td>\n",
              "      <td>0.306014</td>\n",
              "      <td>0.344329</td>\n",
              "      <td>0.038681</td>\n",
              "      <td>0.103815</td>\n",
              "    </tr>\n",
              "    <tr>\n",
              "      <th>1</th>\n",
              "      <td>2012</td>\n",
              "      <td>0.074993</td>\n",
              "      <td>0.065406</td>\n",
              "      <td>0.171769</td>\n",
              "      <td>0.249780</td>\n",
              "      <td>0.302250</td>\n",
              "      <td>0.040146</td>\n",
              "      <td>0.090781</td>\n",
              "    </tr>\n",
              "    <tr>\n",
              "      <th>2</th>\n",
              "      <td>2013</td>\n",
              "      <td>0.073920</td>\n",
              "      <td>0.065417</td>\n",
              "      <td>0.160483</td>\n",
              "      <td>0.221664</td>\n",
              "      <td>0.281210</td>\n",
              "      <td>0.040878</td>\n",
              "      <td>0.084265</td>\n",
              "    </tr>\n",
              "    <tr>\n",
              "      <th>3</th>\n",
              "      <td>2014</td>\n",
              "      <td>0.072846</td>\n",
              "      <td>0.065427</td>\n",
              "      <td>0.149198</td>\n",
              "      <td>0.193547</td>\n",
              "      <td>0.260171</td>\n",
              "      <td>0.041610</td>\n",
              "      <td>0.077748</td>\n",
              "    </tr>\n",
              "    <tr>\n",
              "      <th>4</th>\n",
              "      <td>2015</td>\n",
              "      <td>0.071773</td>\n",
              "      <td>0.065438</td>\n",
              "      <td>0.137913</td>\n",
              "      <td>0.165430</td>\n",
              "      <td>0.239131</td>\n",
              "      <td>0.042342</td>\n",
              "      <td>0.071231</td>\n",
              "    </tr>\n",
              "    <tr>\n",
              "      <th>5</th>\n",
              "      <td>2016</td>\n",
              "      <td>0.070700</td>\n",
              "      <td>0.065448</td>\n",
              "      <td>0.126628</td>\n",
              "      <td>0.137314</td>\n",
              "      <td>0.218091</td>\n",
              "      <td>0.043074</td>\n",
              "      <td>0.064714</td>\n",
              "    </tr>\n",
              "    <tr>\n",
              "      <th>6</th>\n",
              "      <td>2017</td>\n",
              "      <td>0.069626</td>\n",
              "      <td>0.065459</td>\n",
              "      <td>0.115342</td>\n",
              "      <td>0.109197</td>\n",
              "      <td>0.197052</td>\n",
              "      <td>0.043806</td>\n",
              "      <td>0.058197</td>\n",
              "    </tr>\n",
              "    <tr>\n",
              "      <th>7</th>\n",
              "      <td>2018</td>\n",
              "      <td>0.068553</td>\n",
              "      <td>0.065470</td>\n",
              "      <td>0.104057</td>\n",
              "      <td>0.081081</td>\n",
              "      <td>0.176012</td>\n",
              "      <td>0.044538</td>\n",
              "      <td>0.051680</td>\n",
              "    </tr>\n",
              "    <tr>\n",
              "      <th>8</th>\n",
              "      <td>2019</td>\n",
              "      <td>0.067480</td>\n",
              "      <td>0.065480</td>\n",
              "      <td>0.092772</td>\n",
              "      <td>0.052964</td>\n",
              "      <td>0.154972</td>\n",
              "      <td>0.045271</td>\n",
              "      <td>0.045163</td>\n",
              "    </tr>\n",
              "    <tr>\n",
              "      <th>9</th>\n",
              "      <td>2020</td>\n",
              "      <td>0.066406</td>\n",
              "      <td>0.065491</td>\n",
              "      <td>0.081487</td>\n",
              "      <td>0.024847</td>\n",
              "      <td>0.133932</td>\n",
              "      <td>0.046003</td>\n",
              "      <td>0.038646</td>\n",
              "    </tr>\n",
              "    <tr>\n",
              "      <th>10</th>\n",
              "      <td>2021</td>\n",
              "      <td>0.065333</td>\n",
              "      <td>0.065501</td>\n",
              "      <td>0.070201</td>\n",
              "      <td>-0.003269</td>\n",
              "      <td>0.112893</td>\n",
              "      <td>0.046735</td>\n",
              "      <td>0.032129</td>\n",
              "    </tr>\n",
              "  </tbody>\n",
              "</table>\n",
              "</div>\n",
              "      <button class=\"colab-df-convert\" onclick=\"convertToInteractive('df-8480aad3-d91b-4d8a-a048-ea87b26c4f18')\"\n",
              "              title=\"Convert this dataframe to an interactive table.\"\n",
              "              style=\"display:none;\">\n",
              "        \n",
              "  <svg xmlns=\"http://www.w3.org/2000/svg\" height=\"24px\"viewBox=\"0 0 24 24\"\n",
              "       width=\"24px\">\n",
              "    <path d=\"M0 0h24v24H0V0z\" fill=\"none\"/>\n",
              "    <path d=\"M18.56 5.44l.94 2.06.94-2.06 2.06-.94-2.06-.94-.94-2.06-.94 2.06-2.06.94zm-11 1L8.5 8.5l.94-2.06 2.06-.94-2.06-.94L8.5 2.5l-.94 2.06-2.06.94zm10 10l.94 2.06.94-2.06 2.06-.94-2.06-.94-.94-2.06-.94 2.06-2.06.94z\"/><path d=\"M17.41 7.96l-1.37-1.37c-.4-.4-.92-.59-1.43-.59-.52 0-1.04.2-1.43.59L10.3 9.45l-7.72 7.72c-.78.78-.78 2.05 0 2.83L4 21.41c.39.39.9.59 1.41.59.51 0 1.02-.2 1.41-.59l7.78-7.78 2.81-2.81c.8-.78.8-2.07 0-2.86zM5.41 20L4 18.59l7.72-7.72 1.47 1.35L5.41 20z\"/>\n",
              "  </svg>\n",
              "      </button>\n",
              "      \n",
              "  <style>\n",
              "    .colab-df-container {\n",
              "      display:flex;\n",
              "      flex-wrap:wrap;\n",
              "      gap: 12px;\n",
              "    }\n",
              "\n",
              "    .colab-df-convert {\n",
              "      background-color: #E8F0FE;\n",
              "      border: none;\n",
              "      border-radius: 50%;\n",
              "      cursor: pointer;\n",
              "      display: none;\n",
              "      fill: #1967D2;\n",
              "      height: 32px;\n",
              "      padding: 0 0 0 0;\n",
              "      width: 32px;\n",
              "    }\n",
              "\n",
              "    .colab-df-convert:hover {\n",
              "      background-color: #E2EBFA;\n",
              "      box-shadow: 0px 1px 2px rgba(60, 64, 67, 0.3), 0px 1px 3px 1px rgba(60, 64, 67, 0.15);\n",
              "      fill: #174EA6;\n",
              "    }\n",
              "\n",
              "    [theme=dark] .colab-df-convert {\n",
              "      background-color: #3B4455;\n",
              "      fill: #D2E3FC;\n",
              "    }\n",
              "\n",
              "    [theme=dark] .colab-df-convert:hover {\n",
              "      background-color: #434B5C;\n",
              "      box-shadow: 0px 1px 3px 1px rgba(0, 0, 0, 0.15);\n",
              "      filter: drop-shadow(0px 1px 2px rgba(0, 0, 0, 0.3));\n",
              "      fill: #FFFFFF;\n",
              "    }\n",
              "  </style>\n",
              "\n",
              "      <script>\n",
              "        const buttonEl =\n",
              "          document.querySelector('#df-8480aad3-d91b-4d8a-a048-ea87b26c4f18 button.colab-df-convert');\n",
              "        buttonEl.style.display =\n",
              "          google.colab.kernel.accessAllowed ? 'block' : 'none';\n",
              "\n",
              "        async function convertToInteractive(key) {\n",
              "          const element = document.querySelector('#df-8480aad3-d91b-4d8a-a048-ea87b26c4f18');\n",
              "          const dataTable =\n",
              "            await google.colab.kernel.invokeFunction('convertToInteractive',\n",
              "                                                     [key], {});\n",
              "          if (!dataTable) return;\n",
              "\n",
              "          const docLinkHtml = 'Like what you see? Visit the ' +\n",
              "            '<a target=\"_blank\" href=https://colab.research.google.com/notebooks/data_table.ipynb>data table notebook</a>'\n",
              "            + ' to learn more about interactive tables.';\n",
              "          element.innerHTML = '';\n",
              "          dataTable['output_type'] = 'display_data';\n",
              "          await google.colab.output.renderOutput(dataTable, element);\n",
              "          const docLink = document.createElement('div');\n",
              "          docLink.innerHTML = docLinkHtml;\n",
              "          element.appendChild(docLink);\n",
              "        }\n",
              "      </script>\n",
              "    </div>\n",
              "  </div>\n",
              "  "
            ]
          },
          "metadata": {},
          "execution_count": 28
        }
      ]
    },
    {
      "cell_type": "code",
      "source": [
        "df_final.columns ='Year', 'Bio','Geo','Offshore','Solar','Con', 'Hydro','Onshore'\n",
        "fig, ax = plt.subplots()\n",
        "\n",
        "years = df_final.columns[1:]\n",
        "\n",
        "for index, column in df_final.iterrows():\n",
        "  plt.plot(years, column[1:], label=column[0])\n",
        "\n",
        "plt.title(\"Prijzen niet- fossiele energie\")\n",
        "plt.xlabel(\"niet-fossiele energie\")\n",
        "plt.ylabel(\"prijzen\")\n",
        "plt.legend(loc='center left', bbox_to_anchor=(1, 0.5))\n",
        "plt.grid()\n",
        "\n",
        "plt.show()"
      ],
      "metadata": {
        "colab": {
          "base_uri": "https://localhost:8080/",
          "height": 295
        },
        "id": "W1bKDIQUjbel",
        "outputId": "0712a62b-4599-401c-ab6b-b26ed63b889b"
      },
      "execution_count": 34,
      "outputs": [
        {
          "output_type": "display_data",
          "data": {
            "text/plain": [
              "<Figure size 432x288 with 1 Axes>"
            ],
            "image/png": "[encoded data removed]"
          },
          "metadata": {
            "needs_background": "light"
          }
        }
      ]
    }
  ]
}